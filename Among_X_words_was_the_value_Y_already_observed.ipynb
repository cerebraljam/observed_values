{
 "cells": [
  {
   "cell_type": "markdown",
   "metadata": {},
   "source": [
    "# Among X words, was the value Y already observed?\n",
    "\n",
    "## Context\n",
    "Let's talk about password leakages. There are plenty of user lists available on the Internet. [Collection 1 contains 2,692,818,238 rows](https://www.troyhunt.com/the-773-million-record-collection-1-data-reach/). These databases are absolutely huge, and searching through them takes a lot of time, or require an indexed database.\n",
    "\n",
    "## Question:\n",
    "Is there a way to take all these emails and passwords, and convert them in a format that can be queried quickly, while still being able to carry it arround easily, and preventing extraction of the original information?\n",
    "\n",
    "### Success criterias\n",
    "\n",
    "* The solution doesn't keep the hashed version of the values in an extractable form.\n",
    "* No \"sequencial search\" is required. The query must be as instantanious as possible.\n",
    "* Limited chances of false positives, despite the compact memory representation."
   ]
  },
  {
   "cell_type": "markdown",
   "metadata": {},
   "source": [
    "# Conclusion (Spoilers)\n",
    "\n",
    "In this notebook, I used a array of 26 bits (8MB), generated 4,522,376 random words that would have needed at least 139MB of ram if all MD5 hashes were stored in whole.\n",
    "\n",
    "I get an accuracy of 99.9986%, which isn't too bad! It was wrong only 21 times over a testing sample of 15,000."
   ]
  },
  {
   "cell_type": "markdown",
   "metadata": {},
   "source": [
    "## Method Name: Bloom Filter\n",
    "\n",
    "When I coded this proof of concept, I had the intuition that the method exised already, I just didn't knew how it was called or how other people implemented it. The known name for this method is a [Bloom Filter](https://en.wikipedia.org/wiki/Bloom_filter) ([JP version](https://ja.wikipedia.org/wiki/%E3%83%96%E3%83%AB%E3%83%BC%E3%83%A0%E3%83%95%E3%82%A3%E3%83%AB%E3%82%BF)). A Bloom Filter is a space-efficient Probabilistic Data Structure conceived by Burton Howard Bloom in 1970, so there is nothing new in there, except maybe the implementation.\n",
    "\n",
    "## The Theory\n",
    "\n",
    "A hash is normally represented as a string, but it can also be represented as an integer between 0 and 2*128 (340282366920938463463374607431768211456). \n",
    "\n",
    "For example, 'bacon'.encode('utf-8') hashed with MD5 has the following HEX representation 7813258ef8c6b632dde8cc80f6bda62f.\n",
    "\n",
    "This HEX value, in Integer can also be represented as 63339489985812697881294514380540810104\n",
    "\n",
    "The hex can be compactly stored as a string of 32 characters, or can also be represented as a single bit in a memory range of 3.8685626227668134e+25TB. \n",
    "\n",
    "This single bit representation is useful since unless there are collisions in the hashing algorythm, there will not be collisions in the storage, But its obviously too big to be practicle. \n",
    "\n",
    "By using modulo, we can devide that number and keep only the remainder, which could fit in a limited memory size, with the consequence that we increase the chances of collisions with other hashes.\n",
    "\n",
    "If the memory space is sufficiently big enough to fit few times the number of total hash values we want to store, the number of collisions are likely to be less frequent. \n",
    "\n",
    "To furtherly reduce our chances of collisions, we can use two different hashing algorythm and activate 2 bits in memory for every value that we want to store.\n",
    "* If bit A and B are *True*: We know that the specific hash was observed \n",
    "* If bit A != B, or A and B are *False*: We know that the value was not observed."
   ]
  },
  {
   "cell_type": "markdown",
   "metadata": {},
   "source": [
    "## Approach\n",
    "\n",
    "There is no magic here. Hex is used to compactly represent large binary values. \"Compactly\" is the keyword. What if we used that raw binary value, presented it as an integer, and used that integer as an offset that would identify a single bit in an array of bit, instead of using the compressed version that would require multiple bits for a single value? \n",
    "\n",
    "Yes, this would require a long array of bits, an array bits of 32 bits takes 512MB of ram, which is still manageable on any recent computer. This bit size can also be adjusted to a smaller value if we can tolerate some false positives.\n",
    "\n",
    "To ensure that values are properly spaced across the array of bit, we can use hashing algorithms like md5 (128 bits), sha1 (160 bits) or sha256 (256 bits), which obviously would overflow our 32 bits of memory. \n",
    "\n",
    "Taking that full hash value and doing a modulo 2^32 allows us to crop it down to a reasonable size, with a small chance of collision, that would translate by having some values called as observed while they weren't. \n",
    "\n",
    "To reduce the chance of collision, we can double the number of bits used per observation, by using two hashing algorithm and activating 2 bits per word. \n",
    "    * if both bits resulting of the modulo of the md5 hash and sha1 hash are True, it's most likely because the value was observed\n",
    "    * if not, one of the two offset are at False\n",
    "    * ... there is still a risk of collision, but it becomes less likely.\n",
    "\n",
    "### Training\n",
    "* Step 1) take whatever string we want to query later on (ex.: email + hashed(password)) and hash it using your favorite hashing algorithm (md5 used here for speed purpose).\n",
    "* Step 2) Initialize an array of bits of a defined size. Here I am using a x bits array. This nb of bits should be adjusted depending of the number of value to observe, and the tolerated rate of collisions\n",
    "* Step 3) For each hashed credentials, convert the hash binary value into an offset in the form of an integer with two hashing algorithm: md5 and sha1.\n",
    "* Step 4) Use these offsets to set to True for those 2 bits in our array of bit. \n",
    "\n",
    "### Querying\n",
    "* Step 1) Create a hashed version of the email + password with the same procedure as used during the training\n",
    "* Step 2) Calculate the offset from the value of the hash with the md5 and sha1 algorithm\n",
    "* Step 3) Check the values at these specific offset. If both are true, it's highly likely that the value was observed, if one of the two or both are false, the value was probably not observed. There is a likelihood of collision, but it will depend of the size of the array of bits.\n",
    "\n",
    "### Extra mile\n",
    "We can know how many values were observed by summing all the bits and deviding the result by 2 from the array of bit... but this take forever. Probably that sampling it and extrapolating the result would give sufficiently precice results... but I haven't checked that hypothesis."
   ]
  },
  {
   "cell_type": "markdown",
   "metadata": {},
   "source": [
    "## Initializing the array of bits, and other libraries"
   ]
  },
  {
   "cell_type": "code",
   "execution_count": 1,
   "metadata": {
    "collapsed": false
   },
   "outputs": [],
   "source": [
    "from bitarray import bitarray\n",
    "import hashlib\n",
    "import numpy as np\n",
    "import math\n",
    "import random\n",
    "\n",
    "# On how many bits are we going to compress the information\n",
    "bit_array_size = 2**26\n",
    "\n",
    "# Initialization of the array of bit\n",
    "bit_array = bitarray(bit_array_size)\n",
    "bit_array.setall(0)"
   ]
  },
  {
   "cell_type": "code",
   "execution_count": 2,
   "metadata": {
    "collapsed": false
   },
   "outputs": [
    {
     "name": "stdout",
     "output_type": "stream",
     "text": [
      "The current array of bits takes 8.0MB in memory\n",
      "This array of bits could theorically be sufficient for 33554432.0 observed values\n"
     ]
    }
   ],
   "source": [
    "print(\"The current array of bits takes {}MB in memory\".format(bit_array_size/8/1024/1024))\n",
    "print(\"This array of bits could theorically be sufficient for {} observed values\".format(bit_array_size/2))"
   ]
  },
  {
   "cell_type": "markdown",
   "metadata": {},
   "source": [
    "## Creating testing data\n",
    "\n",
    "This section is only necessary for the demonstration of this notebook. For real, we should use the hash generated from the credentials"
   ]
  },
  {
   "cell_type": "code",
   "execution_count": 3,
   "metadata": {
    "collapsed": false
   },
   "outputs": [],
   "source": [
    "import string\n",
    "\n",
    "def randomString(stringLength=10):\n",
    "    \"\"\"Generate a random string of fixed length \"\"\"\n",
    "    letters = string.ascii_lowercase\n",
    "    return ''.join(random.choice(letters) for i in range(stringLength))\n"
   ]
  },
  {
   "cell_type": "markdown",
   "metadata": {},
   "source": [
    "### Word to offset conversion\n",
    "\n",
    "The `process_word(word)` function receives a word, converts it in unicode, then hash it with md5 and SHA1.\n",
    "The hashes are then converted into integers, and moduloed with the size of bit array, giving us two offsets in the range of our array of bit.\n",
    "\n",
    "The `record_word(offset)` function simply takes a defined offset and set the value to True."
   ]
  },
  {
   "cell_type": "code",
   "execution_count": 4,
   "metadata": {
    "collapsed": true
   },
   "outputs": [],
   "source": [
    "def process_word(word):\n",
    "    x = word.encode('utf-8')\n",
    "    m = hashlib.md5(x).digest()\n",
    "    s = hashlib.sha1(x).digest()\n",
    "    offset_md5 = int.from_bytes(m, \"little\") % bit_array_size\n",
    "    offset_sha1 = int.from_bytes(s, \"little\") % bit_array_size\n",
    "    return {\"word\": word, \"offsetMD5\": offset_md5, \"offsetSHA1\": offset_sha1}\n",
    "\n",
    "def record_word(offset):\n",
    "    bit_array[offset]=True"
   ]
  },
  {
   "cell_type": "markdown",
   "metadata": {},
   "source": [
    "The functions aboves are sufficient to train the memory."
   ]
  },
  {
   "cell_type": "markdown",
   "metadata": {},
   "source": [
    "## Training from a list of words\n",
    "\n",
    "The `generate_content` function will loop until we have a list of test cases of size `size`, recording the word with probability `record_chance`, and keeping the outcome (was observed/was not observed) with probability `keep_chance`.\n",
    "\n",
    "The result of the execution is that in the end, we will have `size` test results, which represent 0.3% of all the values learned/not learned."
   ]
  },
  {
   "cell_type": "code",
   "execution_count": 5,
   "metadata": {
    "collapsed": false
   },
   "outputs": [
    {
     "name": "stdout",
     "output_type": "stream",
     "text": [
      "Performed 5058477 loops to obtain a sample space of 15000 samples, recorded 4552648 words\n",
      "keeping all the md5 hashes values for querying would have used 139MB + overhead + index + taxes\n",
      "CPU times: user 3min 14s, sys: 812 ms, total: 3min 15s\n",
      "Wall time: 3min 19s\n"
     ]
    }
   ],
   "source": [
    "%%time\n",
    "\n",
    "size = 15000\n",
    "record_chance = 0.90\n",
    "keep_chance = 0.003\n",
    "\n",
    "def generate_content(size, record_chance, keep_chance): \n",
    "    words = []\n",
    "    classifs = []\n",
    "    count = 0\n",
    "    records = 0\n",
    "    memorysize = 0\n",
    "    \n",
    "    while len(words) < size:\n",
    "        count += 1\n",
    "        result = process_word(randomString(50))\n",
    "        # Will this word be recorded?\n",
    "        record = False\n",
    "        if random.random() < record_chance:\n",
    "            record = True\n",
    "            records+=1\n",
    "            memorysize+=32\n",
    "            record_word(result['offsetMD5'])\n",
    "            record_word(result['offsetSHA1'])\n",
    "        \n",
    "        if random.random() < keep_chance:\n",
    "            words.append(result['word'])\n",
    "            classifs.append(record)\n",
    "        \n",
    "    print(\"Performed {} loops to obtain a sample space of {} samples, recorded {} words\".format(count, len(words), records))\n",
    "    print(\"keeping all the md5 hashes values for querying would have used {}MB + overhead + index + taxes\".format(math.ceil(memorysize/1024/1024)))\n",
    "    return {\"words\":words, \"classifs\": classifs}\n",
    "\n",
    "outcome = generate_content(size, record_chance, keep_chance)"
   ]
  },
  {
   "cell_type": "markdown",
   "metadata": {},
   "source": [
    "## Testing the model\n",
    "\n",
    "Using the `outcome` from the `generate_content` function, we can start querying the memory and confirm the accuracy of the predictions."
   ]
  },
  {
   "cell_type": "code",
   "execution_count": 6,
   "metadata": {
    "collapsed": false
   },
   "outputs": [
    {
     "name": "stdout",
     "output_type": "stream",
     "text": [
      "success: 14982. fail: 18. total searched: 15000\n",
      "success rate: 0.9988\n",
      "Details on the missed (10 firsts):\n",
      "{'word': 'tvzneabqlaafymgpniwkvduoeperrhodxpjvivyavctdfpjevd', 'offsetMD5': 29354984, 'offsetSHA1': 6741290, 'real': False, 'predicted_md5': True, 'predicted_sha1': True}\n",
      "{'word': 'dbnclilronrjyfvhqwzidvbpbqiqlelfrqvpwfuolbyixxkuof', 'offsetMD5': 61843024, 'offsetSHA1': 63988993, 'real': False, 'predicted_md5': True, 'predicted_sha1': True}\n",
      "{'word': 'onxapnwucumdwuecdgazllhzqabxbbkvwnaztyypimfxpvbghi', 'offsetMD5': 27995456, 'offsetSHA1': 54163426, 'real': False, 'predicted_md5': True, 'predicted_sha1': True}\n",
      "{'word': 'jektxwljqknypypywlkrtoammzutrobozcpsukzjmyhvwlippz', 'offsetMD5': 66382501, 'offsetSHA1': 27669578, 'real': False, 'predicted_md5': True, 'predicted_sha1': True}\n",
      "{'word': 'nrxzcvteemkbgzlkglfyvjkikaqqskxttamdxooqzmsdfjjlku', 'offsetMD5': 21702634, 'offsetSHA1': 35897770, 'real': False, 'predicted_md5': True, 'predicted_sha1': True}\n",
      "{'word': 'miuxiqycouxsxkjysjwupxklnolqijtzvbhallytlfsjirmmjn', 'offsetMD5': 19388657, 'offsetSHA1': 65596809, 'real': False, 'predicted_md5': True, 'predicted_sha1': True}\n",
      "{'word': 'xthzhdhshjlrcivdphghpaszzmxmvpaznwtckiyocqwizbzmwf', 'offsetMD5': 35558112, 'offsetSHA1': 51126914, 'real': False, 'predicted_md5': True, 'predicted_sha1': True}\n",
      "{'word': 'tobviylicpyahtwhvcggsfbcqdudoggipssckhapobajuttlou', 'offsetMD5': 8663265, 'offsetSHA1': 7814166, 'real': False, 'predicted_md5': True, 'predicted_sha1': True}\n",
      "{'word': 'nbuwcjxqskrstprrlocxbozwzpgtpejbtqxhrmmasbmmqighvs', 'offsetMD5': 2458232, 'offsetSHA1': 51920559, 'real': False, 'predicted_md5': True, 'predicted_sha1': True}\n",
      "{'word': 'sxtmmeuyumabtxplqqfmmidwaebshjmexdizlvodgfkmakbzgn', 'offsetMD5': 23681023, 'offsetSHA1': 17407972, 'real': False, 'predicted_md5': True, 'predicted_sha1': True}\n",
      "CPU times: user 64.5 ms, sys: 13.1 ms, total: 77.6 ms\n",
      "Wall time: 77.7 ms\n"
     ]
    }
   ],
   "source": [
    "%%time\n",
    "\n",
    "## testing\n",
    "successes = []\n",
    "misses = []\n",
    "for i in range(len(outcome['words'])):\n",
    "    result = process_word(outcome['words'][i])\n",
    "    result['real'] = outcome['classifs'][i]\n",
    "    result['predicted_md5'] = bit_array[result['offsetMD5']]\n",
    "    result['predicted_sha1'] = bit_array[result['offsetSHA1']]\n",
    "    if bit_array[result['offsetMD5']] == outcome['classifs'][i] and bit_array[result['offsetSHA1']] == outcome['classifs'][i]:\n",
    "        successes.append(result)\n",
    "    else:\n",
    "        if bit_array[result['offsetMD5']] != bit_array[result['offsetSHA1']]:\n",
    "            successes.append(result)\n",
    "        else: \n",
    "            misses.append(result)\n",
    "\n",
    "print(\"success: {}. fail: {}. total searched: {}\".format(len(successes), len(misses), len(successes) + len(misses)))\n",
    "print(\"success rate: {}\".format(len(successes)/(len(successes) + len(misses))))\n",
    "\n",
    "print(\"Details on the missed (10 firsts):\")\n",
    "for mi in misses[:10]:\n",
    "    print(mi)"
   ]
  },
  {
   "cell_type": "markdown",
   "metadata": {},
   "source": [
    "# Conclusion\n",
    "\n",
    "In this notebook, I used a array of 26 bits (8MB), generated 4,522,376 random words that would have needed at least 139MB of ram if hashes were stored in whole.\n",
    "\n",
    "With an accuracy rate of 99.9983%, it's not too bad! It was wrong only 25 times over a testing sample of 15,000.\n",
    "\n",
    "\n",
    "## Success criterias\n",
    "\n",
    "* The solution doesn't keep the hashed version of the values in an extractable form.\n",
    "    * We can't reverse each bit to it's original MD5 and SHA1 HEX value because the number of times the original hash value was divided by the memory space available is unknown.\n",
    "    * If we were to try, in the scenario where we are using 32 bits (512MB), each bit could be any value between \n",
    "        - [0 to 79000000000000000000000000000] * 2^32 + current bit position, if it's a MD5, or \n",
    "        - [0 to 34000000000000000000000000000000000000] * 2^32 + current bit position, if it's a SHA1.\n",
    "    * Now, let's say that you manage to find which HASH a single value represents. It's just the hash used to address the value in memory. Depending how it was transmitted, that hash is most likely to be the result of a prior hash... or not. Basically, the complexity to guess the orginal value is almost impossible.\n",
    "\n",
    "* No \"sequencial search\" is required. The query must be as instantanious as possible.\n",
    "    * The only \"search\" I have to do is calculate two offsets, and read the memory at these specific offsets. No search is required.\n",
    "\n",
    "* Limited chances of false positives, despite the compact memory representation.\n",
    "    * There is a possibility of false positives, but it's surprisingly low. Using two hashes greatly improved the resiliance to collisions. Planning sufficient space also helped.\n",
    "    \n",
    "## Reversing the filter\n",
    "\n",
    "Let's say that we would like to infer the values of system"
   ]
  }
 ],
 "metadata": {
  "kernelspec": {
   "display_name": "Python 3",
   "language": "python",
   "name": "python3"
  },
  "language_info": {
   "codemirror_mode": {
    "name": "ipython",
    "version": 3
   },
   "file_extension": ".py",
   "mimetype": "text/x-python",
   "name": "python",
   "nbconvert_exporter": "python",
   "pygments_lexer": "ipython3",
   "version": "3.6.4"
  }
 },
 "nbformat": 4,
 "nbformat_minor": 2
}
